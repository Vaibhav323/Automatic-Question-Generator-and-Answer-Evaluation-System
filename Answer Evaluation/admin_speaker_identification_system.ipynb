{
 "cells": [
  {
   "cell_type": "code",
   "execution_count": 1,
   "metadata": {},
   "outputs": [
    {
     "name": "stdout",
     "output_type": "stream",
     "text": [
      "Database opened successfully\n"
     ]
    },
    {
     "ename": "OperationalError",
     "evalue": "table Employees already exists",
     "output_type": "error",
     "traceback": [
      "\u001B[1;31m---------------------------------------------------------------------------\u001B[0m",
      "\u001B[1;31mOperationalError\u001B[0m                          Traceback (most recent call last)",
      "Cell \u001B[1;32mIn[1], line 6\u001B[0m\n\u001B[0;32m      3\u001B[0m con \u001B[38;5;241m=\u001B[39m sqlite3\u001B[38;5;241m.\u001B[39mconnect(\u001B[38;5;124m\"\u001B[39m\u001B[38;5;124memployee.db\u001B[39m\u001B[38;5;124m\"\u001B[39m)  \n\u001B[0;32m      4\u001B[0m \u001B[38;5;28mprint\u001B[39m(\u001B[38;5;124m\"\u001B[39m\u001B[38;5;124mDatabase opened successfully\u001B[39m\u001B[38;5;124m\"\u001B[39m)  \n\u001B[1;32m----> 6\u001B[0m con\u001B[38;5;241m.\u001B[39mexecute(\u001B[38;5;124m\"\u001B[39m\u001B[38;5;124mcreate table Employees (id INTEGER PRIMARY KEY AUTOINCREMENT, name TEXT NOT NULL, roll TEXT UNIQUE NOT NULL, email TEXT NOT NULL, marks_short TEXT NOT NULL, marks_des TEXT NOT NULL)\u001B[39m\u001B[38;5;124m\"\u001B[39m)  \n\u001B[0;32m      8\u001B[0m \u001B[38;5;28mprint\u001B[39m(\u001B[38;5;124m\"\u001B[39m\u001B[38;5;124mTable created successfully\u001B[39m\u001B[38;5;124m\"\u001B[39m)  \n\u001B[0;32m     10\u001B[0m con\u001B[38;5;241m.\u001B[39mclose()\n",
      "\u001B[1;31mOperationalError\u001B[0m: table Employees already exists"
     ]
    }
   ],
   "source": [
    "import sqlite3  \n",
    "  \n",
    "con = sqlite3.connect(\"employee.db\")  \n",
    "print(\"Database opened successfully\")  \n",
    "  \n",
    "con.execute(\"create table Employees (id INTEGER PRIMARY KEY AUTOINCREMENT, name TEXT NOT NULL, roll TEXT UNIQUE NOT NULL, email TEXT NOT NULL, marks_short TEXT NOT NULL, marks_des TEXT NOT NULL)\")  \n",
    "  \n",
    "print(\"Table created successfully\")  \n",
    "  \n",
    "con.close()"
   ]
  },
  {
   "cell_type": "code",
   "metadata": {
    "jupyter": {
     "is_executing": true
    },
    "ExecuteTime": {
     "start_time": "2024-04-23T17:32:05.279152Z"
    }
   },
   "source": [
    "from werkzeug.wrappers import Request, Response\n",
    "from flask import *\n",
    "import sqlite3\n",
    "\n",
    "app = Flask(__name__)\n",
    "\n",
    "@app.route(\"/\")\n",
    "def index():\n",
    "    return render_template(\"A_index.html\")\n",
    "\n",
    "@app.route(\"/add\")\n",
    "def add():\n",
    "    return render_template(\"A_add.html\")\n",
    "\n",
    "@app.route(\"/savedetails\", methods=[\"POST\", \"GET\"])\n",
    "def saveDetails():\n",
    "    msg = \"msg\"\n",
    "    if request.method == \"POST\":\n",
    "        try:\n",
    "            name = request.form[\"name\"]\n",
    "            email = request.form[\"email\"]\n",
    "            address = request.form[\"address\"]\n",
    "            with sqlite3.connect(\"employee.db\") as con:\n",
    "                cur = con.cursor()\n",
    "                cur.execute(\"INSERT into Employees (name, email, address) values (?,?,?)\", (name, email, address))\n",
    "                con.commit()\n",
    "                msg = \"Employee successfully Added\"\n",
    "        except:\n",
    "            con.rollback()\n",
    "            msg = \"We can not add the employee to the list\"\n",
    "        finally:\n",
    "            return render_template(\"A_success.html\", msg=msg)\n",
    "\n",
    "@app.route(\"/view\")\n",
    "def view():\n",
    "    con = sqlite3.connect(\"employee.db\")\n",
    "    con.row_factory = sqlite3.Row\n",
    "    cur = con.cursor()\n",
    "    cur.execute(\"select * from Employees\")\n",
    "    rows = cur.fetchall()\n",
    "    return render_template(\"A_view.html\", rows=rows)\n",
    "\n",
    "@app.route(\"/delete\")\n",
    "def delete():\n",
    "    return render_template(\"A_delete.html\")\n",
    "\n",
    "@app.route(\"/deleterecord\", methods=[\"POST\"])\n",
    "def deleterecord():\n",
    "    id = request.form[\"id\"]\n",
    "\n",
    "    # Check if ID is a number (integer)\n",
    "    try:\n",
    "        id = int(id)\n",
    "    except ValueError:\n",
    "        msg = \"Invalid ID. Please enter a number.\"\n",
    "        return render_template(\"A_delete_record.html\", msg=msg)\n",
    "\n",
    "    with sqlite3.connect(\"employee.db\") as con:\n",
    "        try:\n",
    "            cur = con.cursor()\n",
    "\n",
    "            # Check if ID exists before deletion\n",
    "            cur.execute(\"SELECT count(*) FROM Employees WHERE id = ?\", (id,))\n",
    "            count = cur.fetchone()[0]  # Get the count from the first column\n",
    "\n",
    "            if count > 0:\n",
    "                cur.execute(\"delete from Employees where id = ?\", (id,))\n",
    "                con.commit()\n",
    "                msg = \"Record successfully deleted\"\n",
    "            else:\n",
    "                msg = \"Record with ID {} does not exist.\".format(id)\n",
    "\n",
    "        except:\n",
    "            msg = \"Record could not be deleted.\"\n",
    "        finally:\n",
    "            return render_template(\"A_delete_record.html\", msg=msg)\n",
    "\n",
    "if __name__ == '__main__':\n",
    "    from werkzeug.serving import run_simple\n",
    "    run_simple('localhost', 8090, app)\n"
   ],
   "outputs": [
    {
     "name": "stderr",
     "output_type": "stream",
     "text": [
      " * Running on http://localhost:8090/ (Press CTRL+C to quit)\n"
     ]
    }
   ],
   "execution_count": null
  },
  {
   "cell_type": "code",
   "execution_count": null,
   "metadata": {},
   "outputs": [],
   "source": []
  }
 ],
 "metadata": {
  "kernelspec": {
   "display_name": "Python 3",
   "language": "python",
   "name": "python3"
  },
  "language_info": {
   "codemirror_mode": {
    "name": "ipython",
    "version": 3
   },
   "file_extension": ".py",
   "mimetype": "text/x-python",
   "name": "python",
   "nbconvert_exporter": "python",
   "pygments_lexer": "ipython3",
   "version": "3.11.5"
  }
 },
 "nbformat": 4,
 "nbformat_minor": 4
}
